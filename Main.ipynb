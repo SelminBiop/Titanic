{
 "cells": [
  {
   "cell_type": "code",
   "execution_count": 2,
   "metadata": {
    "collapsed": true
   },
   "outputs": [],
   "source": [
    "%matplotlib inline"
   ]
  },
  {
   "cell_type": "code",
   "execution_count": null,
   "metadata": {},
   "outputs": [],
   "source": [
    "path = \"data/\""
   ]
  },
  {
   "cell_type": "code",
   "execution_count": 1,
   "metadata": {},
   "outputs": [
    {
     "ename": "SkipTest",
     "evalue": "You are importing theano.sandbox.cuda. This is the old GPU back-end and is removed from Theano. Use Theano 0.9 to use it. Even better, transition to the new GPU back-end! See https://github.com/Theano/Theano/wiki/Converting-to-the-new-gpu-back-end%28gpuarray%29",
     "traceback": [
      "\u001b[1;31m---------------------------------------------------------------------------\u001b[0m",
      "\u001b[1;31mSkipTest\u001b[0m                                  Traceback (most recent call last)",
      "\u001b[1;32m<ipython-input-1-bcfe03adabb3>\u001b[0m in \u001b[0;36m<module>\u001b[1;34m()\u001b[0m\n\u001b[0;32m      4\u001b[0m \u001b[1;32mimport\u001b[0m \u001b[0mpandas\u001b[0m \u001b[1;32mas\u001b[0m \u001b[0mpd\u001b[0m\u001b[1;33m\u001b[0m\u001b[0m\n\u001b[0;32m      5\u001b[0m \u001b[1;32mfrom\u001b[0m \u001b[0mscipy\u001b[0m\u001b[1;33m.\u001b[0m\u001b[0mstats\u001b[0m \u001b[1;32mimport\u001b[0m \u001b[0mmode\u001b[0m\u001b[1;33m\u001b[0m\u001b[0m\n\u001b[1;32m----> 6\u001b[1;33m \u001b[1;32mfrom\u001b[0m \u001b[0mtheano\u001b[0m\u001b[1;33m.\u001b[0m\u001b[0msandbox\u001b[0m \u001b[1;32mimport\u001b[0m \u001b[0mcuda\u001b[0m\u001b[1;33m\u001b[0m\u001b[0m\n\u001b[0m",
      "\u001b[1;32mG:\\Anaconda3\\lib\\site-packages\\theano\\sandbox\\cuda\\__init__.py\u001b[0m in \u001b[0;36m<module>\u001b[1;34m()\u001b[0m\n\u001b[0;32m      4\u001b[0m \u001b[1;31m# the folder will be skipped by nosetests without failing.\u001b[0m\u001b[1;33m\u001b[0m\u001b[1;33m\u001b[0m\u001b[0m\n\u001b[0;32m      5\u001b[0m raise SkipTest(\n\u001b[1;32m----> 6\u001b[1;33m     \u001b[1;34m\"You are importing theano.sandbox.cuda. This is the old GPU back-end and \"\u001b[0m\u001b[1;33m\u001b[0m\u001b[0m\n\u001b[0m\u001b[0;32m      7\u001b[0m     \u001b[1;34m\"is removed from Theano. Use Theano 0.9 to use it. Even better, \"\u001b[0m\u001b[1;33m\u001b[0m\u001b[0m\n\u001b[0;32m      8\u001b[0m     \u001b[1;34m\"transition to the new GPU back-end! See \"\u001b[0m\u001b[1;33m\u001b[0m\u001b[0m\n",
      "\u001b[1;31mSkipTest\u001b[0m: You are importing theano.sandbox.cuda. This is the old GPU back-end and is removed from Theano. Use Theano 0.9 to use it. Even better, transition to the new GPU back-end! See https://github.com/Theano/Theano/wiki/Converting-to-the-new-gpu-back-end%28gpuarray%29"
     ],
     "output_type": "error"
    }
   ],
   "source": [
    "import numpy as np\n",
    "\n",
    "np.set_printoptions(precision=4, linewidth=100)\n",
    "import pandas as pd\n",
    "from scipy.stats import mode\n",
    "from theano.sandbox import cuda"
   ]
  },
  {
   "cell_type": "code",
   "execution_count": 5,
   "metadata": {},
   "outputs": [],
   "source": [
    "def substrings_in_string(big_string, substrings):\n",
    "    for substring in substrings:\n",
    "        if big_string.find(substring) != -1:\n",
    "            return substring\n",
    "    print(big_string)\n",
    "    return np.nan"
   ]
  },
  {
   "cell_type": "code",
   "execution_count": 6,
   "metadata": {},
   "outputs": [],
   "source": [
    "def phase1clean(df):\n",
    "    # setting silly values to nan\n",
    "    df.Fare = df.Fare.map(lambda x: np.nan if x == 0 else x)\n",
    "\n",
    "    # Special case for cabins as nan may be signal\n",
    "    df.Cabin = df.Cabin.fillna('Unknown')\n",
    "\n",
    "    # Creating a title column from name\n",
    "    title_list = ['Mrs', 'Mr', 'Master', 'Miss', 'Major', 'Rev',\n",
    "                  'Dr', 'Ms', 'Mlle', 'Col', 'Capt', 'Mme', 'Countess',\n",
    "                  'Don', 'Jonkheer']\n",
    "\n",
    "    df['Title'] = df['Name'].map(lambda x: substrings_in_string(x, title_list))\n",
    "\n",
    "    # replacing all titles with mr, mrs, miss, master\n",
    "    def replace_titles(x):\n",
    "        title = x['Title']\n",
    "        if title in ['Don', 'Major', 'Capt', 'Jonkheer', 'Rev', 'Col']:\n",
    "            return 'Mr'\n",
    "        elif title in ['Countess', 'Mme']:\n",
    "            return 'Mrs'\n",
    "        elif title in ['Mlle', 'Ms']:\n",
    "            return 'Miss'\n",
    "        elif title == 'Dr':\n",
    "            if x['Sex'] == 'Male':\n",
    "                return 'Mr'\n",
    "            else:\n",
    "                return 'Mrs'\n",
    "        else:\n",
    "            return title\n",
    "    df['Title'] = df.apply(replace_titles, axis=1)\n",
    "\n",
    "    # Turning cabin number into Deck\n",
    "    cabin_list = ['A', 'B', 'C', 'D', 'E', 'F', 'T', 'G', 'Unknown']\n",
    "    df['Deck'] = df['Cabin'].map(lambda x: substrings_in_string(x, cabin_list))\n",
    "\n",
    "    # Creating new family size column\n",
    "    df['Family_Size'] = df['SibSp'] + df['Parch']\n",
    "\n",
    "    return df\n"
   ]
  },
  {
   "cell_type": "code",
   "execution_count": 7,
   "metadata": {},
   "outputs": [],
   "source": [
    "def phase2clean(train, test):\n",
    "    # data type dictionary\n",
    "    data_type_dict = {'Pclass': 'ordinal', 'Sex': 'nominal', 'Age': 'numeric',\n",
    "                      'Fare': 'numeric', 'Embarked': 'nominal', 'Title': 'nominal',\n",
    "                      'Deck': 'nominal', 'Family_Size': 'ordinal'}\n",
    "\n",
    "    # imputing nan values\n",
    "    for df in [train, test]:\n",
    "        classmeans = pd.pivot_table(df, values='Fare', index='Pclass', aggfunc='mean')\n",
    "        #df.Fare = df.apply(lambda x: classmeans[x['Pclass']] if pd.isnull(x['Fare']) else x['Fare'], axis=1)\n",
    "        meanAge = np.mean(df.Age)\n",
    "        df.Age = df.Age.fillna(meanAge)\n",
    "        #modeEmbarked = mode(df.Embarked)[0][0]\n",
    "        df.Embarked = df.Embarked.fillna('C')\n",
    "\n",
    "    # Fare per person    \n",
    "    for df in [train, test]:\n",
    "        df['Fare_Per_Person'] = df['Fare'] / (df['Family_Size'] + 1)\n",
    "\n",
    "    # Age times class\n",
    "    for df in [train, test]:\n",
    "        df['Age*Class'] = df['Age'] * df['Pclass']\n",
    "\n",
    "    data_type_dict['Fare_Per_Person'] = 'numeric'\n",
    "    data_type_dict['Age*Class'] = 'numeric'\n",
    "\n",
    "    return [train, test, data_type_dict]\n"
   ]
  },
  {
   "cell_type": "code",
   "execution_count": 8,
   "metadata": {},
   "outputs": [],
   "source": [
    "def discretise_numeric(train, test, data_type_dict, no_bins=10):\n",
    "   N=len(train)\n",
    "   M=len(test)\n",
    "   test=test.rename(lambda x: x+N)\n",
    "   joint_df=train.append(test)\n",
    "   for column in data_type_dict:\n",
    "       if data_type_dict[column]=='numeric':\n",
    "           joint_df[column]=pd.qcut(joint_df[column], 10, duplicates='drop')\n",
    "           data_type_dict[column]='ordinal'\n",
    "   train=joint_df.ix[range(N)]\n",
    "   test=joint_df.ix[range(N,N+M)]\n",
    "   return train, test, data_type_dict"
   ]
  },
  {
   "cell_type": "code",
   "execution_count": 9,
   "metadata": {},
   "outputs": [],
   "source": [
    "def clean(no_bins=0):\n",
    "    trainpath = 'data/train.csv'\n",
    "    testpath = 'data/test.csv'\n",
    "    traindf = pd.read_csv(trainpath)\n",
    "    testdf = pd.read_csv(testpath)\n",
    "\n",
    "    traindf=phase1clean(traindf)\n",
    "    testdf=phase1clean(testdf)\n",
    "\n",
    "    traindf, testdf, data_type_dict=phase2clean(traindf, testdf)\n",
    "\n",
    "    traindf, testdf, data_type_dict=discretise_numeric(traindf, testdf, data_type_dict)\n",
    "\n",
    "    # create a submission file for kaggle\n",
    "    predictiondf = pd.DataFrame(testdf['PassengerId'])\n",
    "    predictiondf['Survived']=[0 for x in range(len(testdf))]\n",
    "    predictiondf.to_csv('data/predictions.csv', index=False)\n",
    "    \n",
    "    return [traindf, testdf, data_type_dict]"
   ]
  },
  {
   "cell_type": "code",
   "execution_count": 33,
   "metadata": {
    "collapsed": true
   },
   "outputs": [
    {
     "name": "stdout",
     "output_type": "stream",
     "text": [
      "[[  1.   0.]\n [  2.   1.]\n [  3.   1.]\n [  4.   1.]\n [  5.   0.]\n [  6.   0.]\n [  7.   0.]\n [  8.   0.]\n [  9.   1.]\n [ 10.   1.]]\n"
     ]
    },
    {
     "name": "stderr",
     "output_type": "stream",
     "text": [
      "G:\\Anaconda3\\lib\\site-packages\\ipykernel_launcher.py:10: DeprecationWarning: \n.ix is deprecated. Please use\n.loc for label based indexing or\n.iloc for positional indexing\n\nSee the documentation here:\nhttp://pandas.pydata.org/pandas-docs/stable/indexing.html#deprecate_ix\n  # Remove the CWD from sys.path while we load stuff.\n"
     ]
    }
   ],
   "source": [
    "def features_from_dataframe(df):\n",
    "    features = df.drop({'Name', 'Ticket', 'Cabin', 'Embarked', 'Deck', 'Survived', 'PassengerId'}, axis=1)\n",
    "    return features\n",
    "\n",
    "def labels_from_dataframe(df):\n",
    "    labels = df[['PassengerId', 'Survived']]\n",
    "    return labels\n",
    "\n",
    "def get_bn_layers(p):\n",
    "    return [\n",
    "        MaxPooling2D(input_shape=conv_layers[-1].output_shape[1:]),\n",
    "        Flatten()\n",
    "    ]\n",
    "\n",
    "traindf, testdf, data_type_dict = clean()\n",
    "train_features = features_from_dataframe(traindf)\n",
    "train_labels = labels_from_dataframe(traindf).values\n",
    "test_features = features_from_dataframe(testdf)\n",
    "test_labels = pd.read_csv('data/gender_submission.csv')\n",
    "print(train_labels[:10])\n"
   ]
  },
  {
   "cell_type": "code",
   "execution_count": null,
   "metadata": {},
   "outputs": [],
   "source": []
  }
 ],
 "metadata": {
  "kernelspec": {
   "display_name": "Python 2",
   "language": "python",
   "name": "python2"
  },
  "language_info": {
   "codemirror_mode": {
    "name": "ipython",
    "version": 2
   },
   "file_extension": ".py",
   "mimetype": "text/x-python",
   "name": "python",
   "nbconvert_exporter": "python",
   "pygments_lexer": "ipython2",
   "version": "2.7.6"
  }
 },
 "nbformat": 4,
 "nbformat_minor": 0
}
